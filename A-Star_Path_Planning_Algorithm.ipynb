{
  "nbformat": 4,
  "nbformat_minor": 0,
  "metadata": {
    "colab": {
      "provenance": []
    },
    "kernelspec": {
      "name": "python3",
      "display_name": "Python 3"
    },
    "language_info": {
      "name": "python"
    }
  },
  "cells": [
    {
      "cell_type": "code",
      "execution_count": 1,
      "metadata": {
        "id": "Z6T2LW1EuKxg"
      },
      "outputs": [],
      "source": [
        "import math\n",
        "import heapq\n",
        "import matplotlib.pyplot as plt"
      ]
    },
    {
      "cell_type": "code",
      "source": [
        "class Cell:\n",
        "  def __init__(self):\n",
        "\n",
        "\n",
        "    self.parent_i = 0\n",
        "    self.parent_j = 0\n",
        "    self.f = float('inf')\n",
        "    self.g = float('inf')\n",
        "    self.h = 0"
      ],
      "metadata": {
        "id": "VOGBIqY-u787"
      },
      "execution_count": 2,
      "outputs": []
    },
    {
      "cell_type": "code",
      "source": [
        "ROW = 9\n",
        "COL = 10"
      ],
      "metadata": {
        "id": "vn0_MxI9wILW"
      },
      "execution_count": 3,
      "outputs": []
    },
    {
      "cell_type": "code",
      "source": [
        "def is_valid(row, col):\n",
        "  return (row >= 0) and (row < ROW) and (col >= 0) and (col < COL)"
      ],
      "metadata": {
        "id": "G-AtJuGGwhYm"
      },
      "execution_count": 4,
      "outputs": []
    },
    {
      "cell_type": "code",
      "source": [
        "def is_unblocked(grid, row, col):\n",
        "  return grid[row][col] == 1"
      ],
      "metadata": {
        "id": "yIUjCDrQyFGF"
      },
      "execution_count": 5,
      "outputs": []
    },
    {
      "cell_type": "code",
      "source": [
        "def is_destination(row, col, dest):\n",
        "  return row == dest[0] and col == dest[1]"
      ],
      "metadata": {
        "id": "NcY2CGoLyTut"
      },
      "execution_count": 6,
      "outputs": []
    },
    {
      "cell_type": "code",
      "source": [
        "def calculate_h_value(row, col, dest):\n",
        "  return ((row - dest[0])**2 + (col - dest[1])**2)**0.5"
      ],
      "metadata": {
        "id": "kaaHUQ5_yzut"
      },
      "execution_count": 7,
      "outputs": []
    },
    {
      "cell_type": "code",
      "source": [
        "def trace_path(cell_details, dest):\n",
        "  print('The path is')\n",
        "  path =[]\n",
        "  row=dest[0]\n",
        "  col=dest[1]\n",
        "\n",
        "  while not(cell_details[row][col].parent_i==row and cell_details[row][col].parent_j==col):\n",
        "    path.append((row, col))\n",
        "    temp_row = cell_details[row][col].parent_i\n",
        "    temp_col = cell_details[row][col].parent_j\n",
        "    row = temp_row\n",
        "    col = temp_col\n",
        "\n",
        "    path.append((row, col))\n",
        "    path.reverse()\n",
        "    for i in path:\n",
        "      print(\"->\",i, end=\"\")\n",
        "    print()\n",
        "    return path"
      ],
      "metadata": {
        "id": "SlPcQRUT0mw_"
      },
      "execution_count": 8,
      "outputs": []
    },
    {
      "cell_type": "code",
      "source": [
        "def a_star_search(grid, src, dest):\n",
        "  if not is_valid(src[0],src[1])or not is_valid(dest[0],dest[1]):\n",
        "    print(\"Source or destination is invalid\")\n",
        "    return\n",
        "\n",
        "  if not is_unblocked(grid, src[0], src[1]) or not is_unblocked(grid, dest[0], dest[1]):\n",
        "    print(\"Source or destination is blocked\")\n",
        "    return\n",
        "\n",
        "  if is_destination(src[0],src[1],dest):\n",
        "    print(\"We are already at the destination\")\n",
        "    return\n",
        "\n",
        "  closed_list= [[False for _ in range(COL)]for _ in range(ROW)]\n",
        "\n",
        "  cell_details = [[Cell() for _ in range(COL)]for _ in range(ROW)]\n",
        "\n",
        "  i = src[0]\n",
        "  j = src[1]\n",
        "  cell_details[i][j].f = 0\n",
        "  cell_details[i][j].g = 0\n",
        "  cell_details[i][j].h = 0\n",
        "  cell_details[i][j].parent_i = i\n",
        "  cell_details[i][j].parent_j = j\n",
        "\n",
        "  open_list = []\n",
        "  heapq.heappush(open_list, (0.0, i, j))\n",
        "\n",
        "  found_dest = False\n",
        "\n",
        "  while len(open_list) > 0:\n",
        "    p = heapq.heappop(open_list)\n",
        "\n",
        "    i = p[1]\n",
        "    j = p[2]\n",
        "    closed_list[i][j] = True\n",
        "\n",
        "    directions = [(0,1),(0,-1),(1,0),(-1,0),(1,1),(1,-1),(-1,1),(-1,-1)]\n",
        "    for dir in directions:\n",
        "      new_i = i + dir[0]\n",
        "      new_j = j + dir[1]\n",
        "\n",
        "      if is_valid(new_i, new_j) and is_unblocked(grid, new_i, new_j) and not closed_list[new_i][new_j]:\n",
        "\n",
        "        if is_destination(new_i,new_j,dest):\n",
        "          cell_details[new_i][new_j].parent_i = i\n",
        "          cell_details[new_i][new_j].parent_j = j\n",
        "          print(\"The destination is found\")\n",
        "\n",
        "          path = trace_path(cell_details, dest)\n",
        "          found_dest = True\n",
        "          return path\n",
        "        else:\n",
        "          g_new = cell_details[i][j].g + 1.0\n",
        "          h_new = calculate_h_value(new_i,new_j,dest)\n",
        "          f_new = g_new + h_new\n",
        "\n",
        "          if cell_details[new_i][new_j].f == float('inf') or cell_details[new_i][new_j].f > f_new:\n",
        "            heapq.heappush(open_list,(f_new,new_i,new_j))\n",
        "\n",
        "            cell_details[new_i][new_j].f = f_new\n",
        "            cell_details[new_i][new_j].g = g_new\n",
        "            cell_details[new_i][new_j].h = h_new\n",
        "            cell_details[new_i][new_j].parent_i = i\n",
        "            cell_details[new_i][new_j].parent_j = j\n",
        "\n",
        "\n",
        "      if not found_dest:\n",
        "        print(\"Failed to find the destination cell\")\n",
        "\n",
        "\n"
      ],
      "metadata": {
        "id": "tNok_foY3PkA"
      },
      "execution_count": 9,
      "outputs": []
    },
    {
      "cell_type": "code",
      "source": [
        "closed_list= [[False for _ in range(5)]for _ in range(5)]\n",
        "closed_list"
      ],
      "metadata": {
        "colab": {
          "base_uri": "https://localhost:8080/"
        },
        "id": "f3rbA3YtBTQf",
        "outputId": "bd91d4d3-ce38-487e-ca60-2c05f5da9d81"
      },
      "execution_count": 10,
      "outputs": [
        {
          "output_type": "execute_result",
          "data": {
            "text/plain": [
              "[[False, False, False, False, False],\n",
              " [False, False, False, False, False],\n",
              " [False, False, False, False, False],\n",
              " [False, False, False, False, False],\n",
              " [False, False, False, False, False]]"
            ]
          },
          "metadata": {},
          "execution_count": 10
        }
      ]
    },
    {
      "cell_type": "code",
      "source": [
        "cell_details  = [[Cell() for b in range(COL)] for b in range(ROW)]"
      ],
      "metadata": {
        "id": "g-ZqYO1DBWd6"
      },
      "execution_count": 11,
      "outputs": []
    },
    {
      "cell_type": "code",
      "source": [
        "cell_details"
      ],
      "metadata": {
        "colab": {
          "base_uri": "https://localhost:8080/"
        },
        "id": "CLTPyFsiCwqq",
        "outputId": "c256e68d-ce60-40d2-f748-54e893c7e87b"
      },
      "execution_count": 12,
      "outputs": [
        {
          "output_type": "execute_result",
          "data": {
            "text/plain": [
              "[[<__main__.Cell at 0x7cca9417de90>,\n",
              "  <__main__.Cell at 0x7cca9417d710>,\n",
              "  <__main__.Cell at 0x7cca9417e950>,\n",
              "  <__main__.Cell at 0x7cca9417e390>,\n",
              "  <__main__.Cell at 0x7cca9417eb90>,\n",
              "  <__main__.Cell at 0x7cca9417e4d0>,\n",
              "  <__main__.Cell at 0x7cca9417e790>,\n",
              "  <__main__.Cell at 0x7cca9417e8d0>,\n",
              "  <__main__.Cell at 0x7cca9417f0d0>,\n",
              "  <__main__.Cell at 0x7cca9417ead0>],\n",
              " [<__main__.Cell at 0x7cca9417ecd0>,\n",
              "  <__main__.Cell at 0x7cca9417eed0>,\n",
              "  <__main__.Cell at 0x7cca9417f190>,\n",
              "  <__main__.Cell at 0x7cca9417f7d0>,\n",
              "  <__main__.Cell at 0x7cca9417f2d0>,\n",
              "  <__main__.Cell at 0x7cca9417f610>,\n",
              "  <__main__.Cell at 0x7cca9417ffd0>,\n",
              "  <__main__.Cell at 0x7cca9417fa90>,\n",
              "  <__main__.Cell at 0x7cca9417fc10>,\n",
              "  <__main__.Cell at 0x7cca9417f4d0>],\n",
              " [<__main__.Cell at 0x7cca9417fd10>,\n",
              "  <__main__.Cell at 0x7cca9417fe50>,\n",
              "  <__main__.Cell at 0x7cca9417cdd0>,\n",
              "  <__main__.Cell at 0x7cca941842d0>,\n",
              "  <__main__.Cell at 0x7cca94184a10>,\n",
              "  <__main__.Cell at 0x7cca941846d0>,\n",
              "  <__main__.Cell at 0x7cca94184f10>,\n",
              "  <__main__.Cell at 0x7cca94185a90>,\n",
              "  <__main__.Cell at 0x7cca941862d0>,\n",
              "  <__main__.Cell at 0x7cca941841d0>],\n",
              " [<__main__.Cell at 0x7cca94185610>,\n",
              "  <__main__.Cell at 0x7cca94186c50>,\n",
              "  <__main__.Cell at 0x7cca94186d10>,\n",
              "  <__main__.Cell at 0x7cca94186d90>,\n",
              "  <__main__.Cell at 0x7cca94187b50>,\n",
              "  <__main__.Cell at 0x7cca94187f90>,\n",
              "  <__main__.Cell at 0x7cca94187f50>,\n",
              "  <__main__.Cell at 0x7cca94187ed0>,\n",
              "  <__main__.Cell at 0x7cca94348c50>,\n",
              "  <__main__.Cell at 0x7cca94187fd0>],\n",
              " [<__main__.Cell at 0x7cca9421ffd0>,\n",
              "  <__main__.Cell at 0x7cca941545d0>,\n",
              "  <__main__.Cell at 0x7cca94155750>,\n",
              "  <__main__.Cell at 0x7cca94154f50>,\n",
              "  <__main__.Cell at 0x7cca94156090>,\n",
              "  <__main__.Cell at 0x7cca94156550>,\n",
              "  <__main__.Cell at 0x7cca941563d0>,\n",
              "  <__main__.Cell at 0x7cca941565d0>,\n",
              "  <__main__.Cell at 0x7cca94156110>,\n",
              "  <__main__.Cell at 0x7cca94156390>],\n",
              " [<__main__.Cell at 0x7cca94156290>,\n",
              "  <__main__.Cell at 0x7cca941562d0>,\n",
              "  <__main__.Cell at 0x7cca94156450>,\n",
              "  <__main__.Cell at 0x7cca94156250>,\n",
              "  <__main__.Cell at 0x7cca94156590>,\n",
              "  <__main__.Cell at 0x7cca94156610>,\n",
              "  <__main__.Cell at 0x7cca941566d0>,\n",
              "  <__main__.Cell at 0x7cca94156710>,\n",
              "  <__main__.Cell at 0x7cca94156910>,\n",
              "  <__main__.Cell at 0x7cca94155490>],\n",
              " [<__main__.Cell at 0x7cca94156a90>,\n",
              "  <__main__.Cell at 0x7cca94156a50>,\n",
              "  <__main__.Cell at 0x7cca94156810>,\n",
              "  <__main__.Cell at 0x7cca941567d0>,\n",
              "  <__main__.Cell at 0x7cca94156b90>,\n",
              "  <__main__.Cell at 0x7cca94155710>,\n",
              "  <__main__.Cell at 0x7cca94155c90>,\n",
              "  <__main__.Cell at 0x7cca94155810>,\n",
              "  <__main__.Cell at 0x7cca94156b10>,\n",
              "  <__main__.Cell at 0x7cca941556d0>],\n",
              " [<__main__.Cell at 0x7cca94154110>,\n",
              "  <__main__.Cell at 0x7cca94156890>,\n",
              "  <__main__.Cell at 0x7cca94156c10>,\n",
              "  <__main__.Cell at 0x7cca94154210>,\n",
              "  <__main__.Cell at 0x7cca94156750>,\n",
              "  <__main__.Cell at 0x7cca94155c50>,\n",
              "  <__main__.Cell at 0x7cca94155bd0>,\n",
              "  <__main__.Cell at 0x7cca94154bd0>,\n",
              "  <__main__.Cell at 0x7cca94156d50>,\n",
              "  <__main__.Cell at 0x7cca94154850>],\n",
              " [<__main__.Cell at 0x7cca94156dd0>,\n",
              "  <__main__.Cell at 0x7cca94156e10>,\n",
              "  <__main__.Cell at 0x7cca94156c90>,\n",
              "  <__main__.Cell at 0x7cca94157050>,\n",
              "  <__main__.Cell at 0x7cca94156f90>,\n",
              "  <__main__.Cell at 0x7cca94156f50>,\n",
              "  <__main__.Cell at 0x7cca94157190>,\n",
              "  <__main__.Cell at 0x7cca941571d0>,\n",
              "  <__main__.Cell at 0x7cca94157110>,\n",
              "  <__main__.Cell at 0x7cca94156e90>]]"
            ]
          },
          "metadata": {},
          "execution_count": 12
        }
      ]
    },
    {
      "cell_type": "code",
      "source": [
        "At = [(0, 5, 10)]\n",
        "p = heapq.heappop(At)\n",
        "p"
      ],
      "metadata": {
        "colab": {
          "base_uri": "https://localhost:8080/"
        },
        "id": "R2fNpJ11DptT",
        "outputId": "aa432977-0fc7-4e21-dba8-2d9974ff59e2"
      },
      "execution_count": 13,
      "outputs": [
        {
          "output_type": "execute_result",
          "data": {
            "text/plain": [
              "(0, 5, 10)"
            ]
          },
          "metadata": {},
          "execution_count": 13
        }
      ]
    },
    {
      "cell_type": "markdown",
      "source": [
        "Grid Visualization"
      ],
      "metadata": {
        "id": "xKnsdFQkP9iB"
      }
    },
    {
      "cell_type": "code",
      "source": [
        "def visualize_grid(grid, path=None):\n",
        "    fig, ax = plt.subplots()\n",
        "    for i in range(len(grid)):\n",
        "        for j in range(len(grid[0])):\n",
        "            if grid[i][j] == 1:\n",
        "                ax.plot(j, i, marker='s', color='lightgray', markersize=10)\n",
        "            else:\n",
        "                ax.plot(j, i, marker='s', color='black', markersize=10)\n",
        "    if path:\n",
        "        for node in path:\n",
        "            ax.plot(node[1], node[0], marker='o', color='red', markersize=10)\n",
        "    plt.gca().invert_yaxis()\n",
        "\n",
        "\n",
        "    plt.grid(True)\n",
        "    plt.show()\n",
        "\n",
        "def main():\n",
        "\n",
        "    grid = [\n",
        "        [1, 0, 1, 1, 1, 1, 0, 1, 1, 1],\n",
        "        [1, 1, 1, 0, 1, 1, 1, 0, 1, 1],\n",
        "        [1, 1, 1, 0, 1, 1, 0, 1, 0, 1],\n",
        "        [0, 0, 1, 0, 1, 0, 0, 0, 0, 1],\n",
        "        [1, 1, 1, 0, 1, 1, 1, 0, 1, 0],\n",
        "        [1, 0, 1, 1, 1, 1, 0, 1, 0, 0],\n",
        "        [1, 0, 0, 0, 0, 1, 0, 0, 0, 1],\n",
        "        [1, 0, 1, 1, 1, 1, 0, 1, 1, 1],\n",
        "        [1, 1, 1, 0, 0, 0, 1, 0, 0, 1]\n",
        "    ]\n",
        "\n",
        "    # Define the source and destination\n",
        "    src = [8, 0]\n",
        "    dest = [2, 7]\n",
        "\n",
        "    # Run the A* search algorithm\n",
        "    path = a_star_search(grid, src, dest)\n",
        "    visualize_grid(grid, path)\n",
        "\n",
        "if __name__ == \"__main__\":\n",
        "    main()"
      ],
      "metadata": {
        "colab": {
          "base_uri": "https://localhost:8080/",
          "height": 1000
        },
        "id": "hTKtz5QVQJmy",
        "outputId": "22224e8b-c53f-4642-eda2-04606b64fd04"
      },
      "execution_count": 15,
      "outputs": [
        {
          "output_type": "stream",
          "name": "stdout",
          "text": [
            "Failed to find the destination cell\n",
            "Failed to find the destination cell\n",
            "Failed to find the destination cell\n",
            "Failed to find the destination cell\n",
            "Failed to find the destination cell\n",
            "Failed to find the destination cell\n",
            "Failed to find the destination cell\n",
            "Failed to find the destination cell\n",
            "Failed to find the destination cell\n",
            "Failed to find the destination cell\n",
            "Failed to find the destination cell\n",
            "Failed to find the destination cell\n",
            "Failed to find the destination cell\n",
            "Failed to find the destination cell\n",
            "Failed to find the destination cell\n",
            "Failed to find the destination cell\n",
            "Failed to find the destination cell\n",
            "Failed to find the destination cell\n",
            "Failed to find the destination cell\n",
            "Failed to find the destination cell\n",
            "Failed to find the destination cell\n",
            "Failed to find the destination cell\n",
            "Failed to find the destination cell\n",
            "Failed to find the destination cell\n",
            "Failed to find the destination cell\n",
            "Failed to find the destination cell\n",
            "Failed to find the destination cell\n",
            "Failed to find the destination cell\n",
            "Failed to find the destination cell\n",
            "Failed to find the destination cell\n",
            "Failed to find the destination cell\n",
            "Failed to find the destination cell\n",
            "Failed to find the destination cell\n",
            "Failed to find the destination cell\n",
            "Failed to find the destination cell\n",
            "Failed to find the destination cell\n",
            "Failed to find the destination cell\n",
            "Failed to find the destination cell\n",
            "Failed to find the destination cell\n",
            "Failed to find the destination cell\n",
            "Failed to find the destination cell\n",
            "Failed to find the destination cell\n",
            "Failed to find the destination cell\n",
            "Failed to find the destination cell\n",
            "Failed to find the destination cell\n",
            "Failed to find the destination cell\n",
            "Failed to find the destination cell\n",
            "Failed to find the destination cell\n",
            "Failed to find the destination cell\n",
            "Failed to find the destination cell\n",
            "Failed to find the destination cell\n",
            "Failed to find the destination cell\n",
            "Failed to find the destination cell\n",
            "Failed to find the destination cell\n",
            "Failed to find the destination cell\n",
            "Failed to find the destination cell\n",
            "Failed to find the destination cell\n",
            "Failed to find the destination cell\n",
            "Failed to find the destination cell\n",
            "Failed to find the destination cell\n",
            "Failed to find the destination cell\n",
            "Failed to find the destination cell\n",
            "Failed to find the destination cell\n",
            "Failed to find the destination cell\n",
            "Failed to find the destination cell\n",
            "Failed to find the destination cell\n",
            "Failed to find the destination cell\n",
            "Failed to find the destination cell\n",
            "Failed to find the destination cell\n",
            "Failed to find the destination cell\n",
            "Failed to find the destination cell\n",
            "Failed to find the destination cell\n",
            "Failed to find the destination cell\n",
            "Failed to find the destination cell\n",
            "Failed to find the destination cell\n",
            "Failed to find the destination cell\n",
            "Failed to find the destination cell\n",
            "Failed to find the destination cell\n",
            "Failed to find the destination cell\n",
            "Failed to find the destination cell\n",
            "Failed to find the destination cell\n",
            "Failed to find the destination cell\n",
            "Failed to find the destination cell\n",
            "Failed to find the destination cell\n",
            "Failed to find the destination cell\n",
            "Failed to find the destination cell\n",
            "Failed to find the destination cell\n",
            "Failed to find the destination cell\n",
            "Failed to find the destination cell\n",
            "Failed to find the destination cell\n",
            "Failed to find the destination cell\n",
            "Failed to find the destination cell\n",
            "Failed to find the destination cell\n",
            "Failed to find the destination cell\n",
            "Failed to find the destination cell\n",
            "Failed to find the destination cell\n",
            "Failed to find the destination cell\n",
            "Failed to find the destination cell\n",
            "Failed to find the destination cell\n",
            "Failed to find the destination cell\n",
            "Failed to find the destination cell\n",
            "Failed to find the destination cell\n",
            "Failed to find the destination cell\n",
            "Failed to find the destination cell\n",
            "Failed to find the destination cell\n",
            "Failed to find the destination cell\n",
            "Failed to find the destination cell\n",
            "Failed to find the destination cell\n",
            "Failed to find the destination cell\n",
            "Failed to find the destination cell\n",
            "Failed to find the destination cell\n",
            "Failed to find the destination cell\n",
            "Failed to find the destination cell\n",
            "Failed to find the destination cell\n",
            "Failed to find the destination cell\n",
            "Failed to find the destination cell\n",
            "Failed to find the destination cell\n",
            "Failed to find the destination cell\n",
            "Failed to find the destination cell\n",
            "Failed to find the destination cell\n",
            "Failed to find the destination cell\n",
            "Failed to find the destination cell\n",
            "Failed to find the destination cell\n",
            "Failed to find the destination cell\n",
            "Failed to find the destination cell\n",
            "Failed to find the destination cell\n",
            "Failed to find the destination cell\n",
            "Failed to find the destination cell\n",
            "Failed to find the destination cell\n",
            "Failed to find the destination cell\n",
            "Failed to find the destination cell\n",
            "Failed to find the destination cell\n",
            "Failed to find the destination cell\n",
            "Failed to find the destination cell\n",
            "Failed to find the destination cell\n",
            "Failed to find the destination cell\n",
            "Failed to find the destination cell\n",
            "Failed to find the destination cell\n",
            "Failed to find the destination cell\n",
            "Failed to find the destination cell\n",
            "Failed to find the destination cell\n",
            "Failed to find the destination cell\n",
            "Failed to find the destination cell\n",
            "Failed to find the destination cell\n",
            "Failed to find the destination cell\n",
            "Failed to find the destination cell\n",
            "Failed to find the destination cell\n",
            "Failed to find the destination cell\n",
            "Failed to find the destination cell\n",
            "Failed to find the destination cell\n",
            "Failed to find the destination cell\n",
            "Failed to find the destination cell\n",
            "Failed to find the destination cell\n",
            "Failed to find the destination cell\n",
            "Failed to find the destination cell\n",
            "Failed to find the destination cell\n",
            "Failed to find the destination cell\n",
            "Failed to find the destination cell\n",
            "Failed to find the destination cell\n",
            "Failed to find the destination cell\n",
            "Failed to find the destination cell\n",
            "Failed to find the destination cell\n",
            "Failed to find the destination cell\n",
            "Failed to find the destination cell\n",
            "Failed to find the destination cell\n",
            "Failed to find the destination cell\n",
            "Failed to find the destination cell\n",
            "Failed to find the destination cell\n",
            "Failed to find the destination cell\n",
            "Failed to find the destination cell\n",
            "Failed to find the destination cell\n",
            "Failed to find the destination cell\n",
            "Failed to find the destination cell\n",
            "Failed to find the destination cell\n",
            "Failed to find the destination cell\n",
            "Failed to find the destination cell\n",
            "Failed to find the destination cell\n",
            "Failed to find the destination cell\n",
            "Failed to find the destination cell\n",
            "Failed to find the destination cell\n",
            "Failed to find the destination cell\n",
            "Failed to find the destination cell\n",
            "Failed to find the destination cell\n",
            "Failed to find the destination cell\n",
            "Failed to find the destination cell\n",
            "Failed to find the destination cell\n",
            "Failed to find the destination cell\n",
            "Failed to find the destination cell\n",
            "Failed to find the destination cell\n",
            "Failed to find the destination cell\n",
            "Failed to find the destination cell\n",
            "Failed to find the destination cell\n",
            "Failed to find the destination cell\n",
            "Failed to find the destination cell\n",
            "Failed to find the destination cell\n",
            "Failed to find the destination cell\n",
            "Failed to find the destination cell\n",
            "Failed to find the destination cell\n",
            "Failed to find the destination cell\n",
            "Failed to find the destination cell\n",
            "Failed to find the destination cell\n",
            "Failed to find the destination cell\n",
            "Failed to find the destination cell\n",
            "Failed to find the destination cell\n",
            "Failed to find the destination cell\n",
            "Failed to find the destination cell\n",
            "Failed to find the destination cell\n",
            "Failed to find the destination cell\n",
            "Failed to find the destination cell\n",
            "Failed to find the destination cell\n",
            "Failed to find the destination cell\n",
            "Failed to find the destination cell\n",
            "Failed to find the destination cell\n",
            "Failed to find the destination cell\n",
            "Failed to find the destination cell\n",
            "Failed to find the destination cell\n",
            "Failed to find the destination cell\n",
            "Failed to find the destination cell\n",
            "Failed to find the destination cell\n",
            "Failed to find the destination cell\n",
            "The destination is found\n",
            "The path is\n",
            "-> (1, 6)-> (2, 7)\n"
          ]
        },
        {
          "output_type": "display_data",
          "data": {
            "text/plain": [
              "<Figure size 640x480 with 1 Axes>"
            ],
            "image/png": "[encoded data removed]"
          },
          "metadata": {}
        }
      ]
    }
  ]
}